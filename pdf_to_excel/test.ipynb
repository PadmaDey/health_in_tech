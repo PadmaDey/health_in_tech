{
 "cells": [
  {
   "cell_type": "code",
   "execution_count": 7,
   "metadata": {},
   "outputs": [],
   "source": [
    "import tabula \n",
    "\n",
    "df = (\"C:/Users/Padma Dey/Downloads/Case management/CM_Activity_Leith.pdf\")\n",
    "output = \"C:/Users/Padma Dey/Downloads/test.csv\"\n",
    "tabula.convert_into(df, output, output_format=\"csv\", pages= 'all', stream=True)\n"
   ]
  },
  {
   "cell_type": "code",
   "execution_count": 8,
   "metadata": {},
   "outputs": [],
   "source": [
    "import tabula as tb\n"
   ]
  },
  {
   "cell_type": "code",
   "execution_count": 11,
   "metadata": {},
   "outputs": [],
   "source": [
    "df = (\"C:/Users/Padma Dey/Downloads/Case management/CM_Activity.pdf\")\n"
   ]
  },
  {
   "cell_type": "code",
   "execution_count": 12,
   "metadata": {},
   "outputs": [
    {
     "data": {
      "text/plain": [
       "[]"
      ]
     },
     "execution_count": 12,
     "metadata": {},
     "output_type": "execute_result"
    }
   ],
   "source": [
    "df1 = tb.read_pdf(df, pages='all')\n",
    "df1\n"
   ]
  },
  {
   "cell_type": "code",
   "execution_count": 1,
   "metadata": {},
   "outputs": [],
   "source": [
    "import pandas as pd\n",
    "import pdfquery\n"
   ]
  },
  {
   "cell_type": "code",
   "execution_count": 3,
   "metadata": {},
   "outputs": [],
   "source": [
    "#read the PDF\n",
    "pdf = pdfquery.PDFQuery('C:/Users/Padma Dey/Downloads/Case management/CM_Activity.pdf')\n",
    "pdf.load()\n"
   ]
  },
  {
   "cell_type": "code",
   "execution_count": 4,
   "metadata": {},
   "outputs": [
    {
     "data": {
      "text/plain": [
       "<pdfquery.pdfquery.PDFQuery at 0x1d96f5aa4b0>"
      ]
     },
     "execution_count": 4,
     "metadata": {},
     "output_type": "execute_result"
    }
   ],
   "source": [
    "#convert the pdf to XML\n",
    "pdf.tree.write('customers.xml', pretty_print = True)\n",
    "pdf\n"
   ]
  },
  {
   "cell_type": "code",
   "execution_count": 5,
   "metadata": {},
   "outputs": [],
   "source": [
    "from io import StringIO\n"
   ]
  },
  {
   "cell_type": "code",
   "execution_count": 6,
   "metadata": {},
   "outputs": [
    {
     "ename": "XMLSyntaxError",
     "evalue": "Start tag expected, '<' not found, line 1, column 1 (<string>, line 1)",
     "output_type": "error",
     "traceback": [
      "Traceback \u001b[1;36m(most recent call last)\u001b[0m:\n",
      "\u001b[0m  File \u001b[0;32m~\\AppData\\Roaming\\Python\\Python312\\site-packages\\IPython\\core\\interactiveshell.py:3577\u001b[0m in \u001b[0;35mrun_code\u001b[0m\n    exec(code_obj, self.user_global_ns, self.user_ns)\u001b[0m\n",
      "\u001b[0m  Cell \u001b[0;32mIn[6], line 1\u001b[0m\n    df = pd.read_xml(StringIO('customers.xml'))\u001b[0m\n",
      "\u001b[0m  File \u001b[0;32mc:\\Users\\Padma Dey\\AppData\\Local\\Programs\\Python\\Python312\\Lib\\site-packages\\pandas\\io\\xml.py:1160\u001b[0m in \u001b[0;35mread_xml\u001b[0m\n    return _parse(\u001b[0m\n",
      "\u001b[0m  File \u001b[0;32mc:\\Users\\Padma Dey\\AppData\\Local\\Programs\\Python\\Python312\\Lib\\site-packages\\pandas\\io\\xml.py:852\u001b[0m in \u001b[0;35m_parse\u001b[0m\n    data_dicts = p.parse_data()\u001b[0m\n",
      "\u001b[0m  File \u001b[0;32mc:\\Users\\Padma Dey\\AppData\\Local\\Programs\\Python\\Python312\\Lib\\site-packages\\pandas\\io\\xml.py:556\u001b[0m in \u001b[0;35mparse_data\u001b[0m\n    self.xml_doc = self._parse_doc(self.path_or_buffer)\u001b[0m\n",
      "\u001b[0m  File \u001b[0;32mc:\\Users\\Padma Dey\\AppData\\Local\\Programs\\Python\\Python312\\Lib\\site-packages\\pandas\\io\\xml.py:647\u001b[0m in \u001b[0;35m_parse_doc\u001b[0m\n    document = fromstring(\u001b[0m\n",
      "\u001b[0m  File \u001b[0;32msrc\\\\lxml\\\\etree.pyx:3306\u001b[0m in \u001b[0;35mlxml.etree.fromstring\u001b[0m\n",
      "\u001b[0m  File \u001b[0;32msrc\\\\lxml\\\\parser.pxi:1995\u001b[0m in \u001b[0;35mlxml.etree._parseMemoryDocument\u001b[0m\n",
      "\u001b[0m  File \u001b[0;32msrc\\\\lxml\\\\parser.pxi:1882\u001b[0m in \u001b[0;35mlxml.etree._parseDoc\u001b[0m\n",
      "\u001b[0m  File \u001b[0;32msrc\\\\lxml\\\\parser.pxi:1164\u001b[0m in \u001b[0;35mlxml.etree._BaseParser._parseDoc\u001b[0m\n",
      "\u001b[0m  File \u001b[0;32msrc\\\\lxml\\\\parser.pxi:633\u001b[0m in \u001b[0;35mlxml.etree._ParserContext._handleParseResultDoc\u001b[0m\n",
      "\u001b[0m  File \u001b[0;32msrc\\\\lxml\\\\parser.pxi:743\u001b[0m in \u001b[0;35mlxml.etree._handleParseResult\u001b[0m\n",
      "\u001b[1;36m  File \u001b[1;32msrc\\\\lxml\\\\parser.pxi:672\u001b[1;36m in \u001b[1;35mlxml.etree._raiseParseError\u001b[1;36m\n",
      "\u001b[1;36m  File \u001b[1;32m<string>:1\u001b[1;36m\u001b[0m\n\u001b[1;31mXMLSyntaxError\u001b[0m\u001b[1;31m:\u001b[0m Start tag expected, '<' not found, line 1, column 1\n"
     ]
    }
   ],
   "source": [
    "df = pd.read_xml(StringIO('customers.xml'))\n",
    "df\n"
   ]
  },
  {
   "cell_type": "code",
   "execution_count": 7,
   "metadata": {},
   "outputs": [],
   "source": [
    "from PyPDF2 import PdfReader\n",
    "\n",
    "reader = PdfReader(\"C:/Users/Padma Dey/Downloads/Case management/CM_Activity.pdf\")\n",
    "number_of_pages = len(reader.pages)\n",
    "page = reader.pages[0]\n",
    "text = page.extract_text()\n"
   ]
  },
  {
   "cell_type": "code",
   "execution_count": 8,
   "metadata": {},
   "outputs": [
    {
     "data": {
      "text/plain": [
       "'PatientID\\n8966\\nStart Date\\n3/27/24\\nPatientID\\n7323\\nStart Date\\n2/6/24\\nZ93.3 Colostomy status\\nHIGHRISKC\\nMHIGH RISK - CM\\nCurrent Medical StatusICD ICD Description Svc Code Svc Code Description\\nK57.20 Dvtrcli of lg int w perforation and abscess w/o bleeding2/29/24 2/29/24 LISA COFFIN 01502-00276-00000 ClosedClosed\\nClose Date Last Update CM Name Alt Ref No Engagement Status2-100487 CAROLYN BONDS 1/5/64 7323 CAROLYN BONDSCurrent Medical Status\\n4/16/24\\nReferral Summary\\nCase referred to Oncology CM for a diagnosis of elevated PSA with service of prostate biopsy. No valid contact number for member outreach. No response from member to \\nUnable to Reach Letter.\\nIn review of claims, member is established with Wake Forest U Health Science for a diagnosis of elevated PSA since 2023 and subsequently underwent a biopsy of prostate \\non 3/13/24. A post procedure office visit claim from Wake Forest U Health Science 3/21/24 notes diagnoses of benign prostatic hypertension and elevated PSA. No oncology \\ndiagnosis noted. \\nPrognosis/Course of illness:\\nNo inpatient admission history. No UR history\\nTotal claims paid in the last 12 months: $7,234.86\\nCriteria not met for plan oversight. Case closed.\\nCM Activity\\n2024-01-01 to 2024-06-30\\nCM Case ID Patient Name PatientDOB InsuredID Insured Name CM LevelICD ICD Description Svc Code Svc Code Description\\nR97.20 Elevatd prstate spcifc antign,PSA4/16/24 4/16/24 LISA COFFIN 01502-00165-00001 DeclinedDeclined - Unable to reach\\nClose Date Last Update CM Name Alt Ref No Engagement Status2-101809 CURTIS BITTLE 5/20/58 8262 HARRIET \\nWARNSLEY CM Activity\\n2024-01-01 to 2024-06-30\\nCM Case ID Patient Name PatientDOB InsuredID Insured Name CM Level'"
      ]
     },
     "execution_count": 8,
     "metadata": {},
     "output_type": "execute_result"
    }
   ],
   "source": [
    "text\n"
   ]
  },
  {
   "cell_type": "code",
   "execution_count": 10,
   "metadata": {},
   "outputs": [
    {
     "data": {
      "text/html": [
       "<div>\n",
       "<style scoped>\n",
       "    .dataframe tbody tr th:only-of-type {\n",
       "        vertical-align: middle;\n",
       "    }\n",
       "\n",
       "    .dataframe tbody tr th {\n",
       "        vertical-align: top;\n",
       "    }\n",
       "\n",
       "    .dataframe thead th {\n",
       "        text-align: right;\n",
       "    }\n",
       "</style>\n",
       "<table border=\"1\" class=\"dataframe\">\n",
       "  <thead>\n",
       "    <tr style=\"text-align: right;\">\n",
       "      <th></th>\n",
       "      <th>0</th>\n",
       "    </tr>\n",
       "  </thead>\n",
       "  <tbody>\n",
       "    <tr>\n",
       "      <th>0</th>\n",
       "      <td>PatientID</td>\n",
       "    </tr>\n",
       "    <tr>\n",
       "      <th>1</th>\n",
       "      <td>8966</td>\n",
       "    </tr>\n",
       "    <tr>\n",
       "      <th>2</th>\n",
       "      <td>Start Date</td>\n",
       "    </tr>\n",
       "    <tr>\n",
       "      <th>3</th>\n",
       "      <td>3/27/24</td>\n",
       "    </tr>\n",
       "    <tr>\n",
       "      <th>4</th>\n",
       "      <td>PatientID</td>\n",
       "    </tr>\n",
       "    <tr>\n",
       "      <th>5</th>\n",
       "      <td>7323</td>\n",
       "    </tr>\n",
       "    <tr>\n",
       "      <th>6</th>\n",
       "      <td>Start Date</td>\n",
       "    </tr>\n",
       "    <tr>\n",
       "      <th>7</th>\n",
       "      <td>2/6/24</td>\n",
       "    </tr>\n",
       "    <tr>\n",
       "      <th>8</th>\n",
       "      <td>Z93.3 Colostomy status</td>\n",
       "    </tr>\n",
       "    <tr>\n",
       "      <th>9</th>\n",
       "      <td>HIGHRISKC</td>\n",
       "    </tr>\n",
       "    <tr>\n",
       "      <th>10</th>\n",
       "      <td>MHIGH RISK - CM</td>\n",
       "    </tr>\n",
       "    <tr>\n",
       "      <th>11</th>\n",
       "      <td>Current Medical StatusICD ICD Description Svc ...</td>\n",
       "    </tr>\n",
       "    <tr>\n",
       "      <th>12</th>\n",
       "      <td>K57.20 Dvtrcli of lg int w perforation and abs...</td>\n",
       "    </tr>\n",
       "    <tr>\n",
       "      <th>13</th>\n",
       "      <td>Close Date Last Update CM Name Alt Ref No Enga...</td>\n",
       "    </tr>\n",
       "    <tr>\n",
       "      <th>14</th>\n",
       "      <td>4/16/24</td>\n",
       "    </tr>\n",
       "    <tr>\n",
       "      <th>15</th>\n",
       "      <td>Referral Summary</td>\n",
       "    </tr>\n",
       "    <tr>\n",
       "      <th>16</th>\n",
       "      <td>Case referred to Oncology CM for a diagnosis o...</td>\n",
       "    </tr>\n",
       "    <tr>\n",
       "      <th>17</th>\n",
       "      <td>Unable to Reach Letter.</td>\n",
       "    </tr>\n",
       "    <tr>\n",
       "      <th>18</th>\n",
       "      <td>In review of claims, member is established wit...</td>\n",
       "    </tr>\n",
       "    <tr>\n",
       "      <th>19</th>\n",
       "      <td>on 3/13/24. A post procedure office visit clai...</td>\n",
       "    </tr>\n",
       "    <tr>\n",
       "      <th>20</th>\n",
       "      <td>diagnosis noted.</td>\n",
       "    </tr>\n",
       "    <tr>\n",
       "      <th>21</th>\n",
       "      <td>Prognosis/Course of illness:</td>\n",
       "    </tr>\n",
       "    <tr>\n",
       "      <th>22</th>\n",
       "      <td>No inpatient admission history. No UR history</td>\n",
       "    </tr>\n",
       "    <tr>\n",
       "      <th>23</th>\n",
       "      <td>Total claims paid in the last 12 months: $7,23...</td>\n",
       "    </tr>\n",
       "    <tr>\n",
       "      <th>24</th>\n",
       "      <td>Criteria not met for plan oversight. Case closed.</td>\n",
       "    </tr>\n",
       "    <tr>\n",
       "      <th>25</th>\n",
       "      <td>CM Activity</td>\n",
       "    </tr>\n",
       "    <tr>\n",
       "      <th>26</th>\n",
       "      <td>2024-01-01 to 2024-06-30</td>\n",
       "    </tr>\n",
       "    <tr>\n",
       "      <th>27</th>\n",
       "      <td>CM Case ID Patient Name PatientDOB InsuredID I...</td>\n",
       "    </tr>\n",
       "    <tr>\n",
       "      <th>28</th>\n",
       "      <td>R97.20 Elevatd prstate spcifc antign,PSA4/16/2...</td>\n",
       "    </tr>\n",
       "    <tr>\n",
       "      <th>29</th>\n",
       "      <td>Close Date Last Update CM Name Alt Ref No Enga...</td>\n",
       "    </tr>\n",
       "    <tr>\n",
       "      <th>30</th>\n",
       "      <td>WARNSLEY CM Activity</td>\n",
       "    </tr>\n",
       "    <tr>\n",
       "      <th>31</th>\n",
       "      <td>2024-01-01 to 2024-06-30</td>\n",
       "    </tr>\n",
       "    <tr>\n",
       "      <th>32</th>\n",
       "      <td>CM Case ID Patient Name PatientDOB InsuredID I...</td>\n",
       "    </tr>\n",
       "  </tbody>\n",
       "</table>\n",
       "</div>"
      ],
      "text/plain": [
       "                                                    0\n",
       "0                                           PatientID\n",
       "1                                                8966\n",
       "2                                          Start Date\n",
       "3                                             3/27/24\n",
       "4                                           PatientID\n",
       "5                                                7323\n",
       "6                                          Start Date\n",
       "7                                              2/6/24\n",
       "8                              Z93.3 Colostomy status\n",
       "9                                           HIGHRISKC\n",
       "10                                    MHIGH RISK - CM\n",
       "11  Current Medical StatusICD ICD Description Svc ...\n",
       "12  K57.20 Dvtrcli of lg int w perforation and abs...\n",
       "13  Close Date Last Update CM Name Alt Ref No Enga...\n",
       "14                                            4/16/24\n",
       "15                                   Referral Summary\n",
       "16  Case referred to Oncology CM for a diagnosis o...\n",
       "17                            Unable to Reach Letter.\n",
       "18  In review of claims, member is established wit...\n",
       "19  on 3/13/24. A post procedure office visit clai...\n",
       "20                                  diagnosis noted. \n",
       "21                       Prognosis/Course of illness:\n",
       "22      No inpatient admission history. No UR history\n",
       "23  Total claims paid in the last 12 months: $7,23...\n",
       "24  Criteria not met for plan oversight. Case closed.\n",
       "25                                        CM Activity\n",
       "26                           2024-01-01 to 2024-06-30\n",
       "27  CM Case ID Patient Name PatientDOB InsuredID I...\n",
       "28  R97.20 Elevatd prstate spcifc antign,PSA4/16/2...\n",
       "29  Close Date Last Update CM Name Alt Ref No Enga...\n",
       "30                               WARNSLEY CM Activity\n",
       "31                           2024-01-01 to 2024-06-30\n",
       "32  CM Case ID Patient Name PatientDOB InsuredID I..."
      ]
     },
     "execution_count": 10,
     "metadata": {},
     "output_type": "execute_result"
    }
   ],
   "source": [
    "import pandas as pd\n",
    "\n",
    "# Extract text (assuming you've done this part)\n",
    "reader = PdfReader(\"C:/Users/Padma Dey/Downloads/Case management/CM_Activity.pdf\")\n",
    "page = reader.pages[0]\n",
    "text = page.extract_text()\n",
    "\n",
    "# Parse text into rows\n",
    "lines = text.splitlines()\n",
    "\n",
    "# Example: splitting lines into columns (adjust based on your text structure)\n",
    "# Assuming the text uses a delimiter like commas, tabs, or fixed-width spacing\n",
    "data = [line.split('\\t') for line in lines]  # Adjust delimiter as needed\n",
    "\n",
    "# Convert to DataFrame\n",
    "df = pd.DataFrame(data)\n",
    "\n",
    "# Display the DataFrame\n",
    "df\n"
   ]
  },
  {
   "cell_type": "code",
   "execution_count": 11,
   "metadata": {},
   "outputs": [],
   "source": [
    "df.to_csv(\"C:/Users/Padma Dey/Downloads/test.csv\", index=False)\n"
   ]
  },
  {
   "cell_type": "code",
   "execution_count": null,
   "metadata": {},
   "outputs": [],
   "source": []
  },
  {
   "cell_type": "code",
   "execution_count": null,
   "metadata": {},
   "outputs": [],
   "source": []
  },
  {
   "cell_type": "code",
   "execution_count": null,
   "metadata": {},
   "outputs": [],
   "source": []
  },
  {
   "cell_type": "code",
   "execution_count": 22,
   "metadata": {},
   "outputs": [],
   "source": [
    "# import libraries\n",
    "import pandas as pd\n",
    "import PyPDF2\n"
   ]
  },
  {
   "cell_type": "code",
   "execution_count": null,
   "metadata": {},
   "outputs": [],
   "source": [
    "# import libraries\n",
    "import pandas as pd\n",
    "import PyPDF2\n",
    "\n",
    "pdfFileObj = open('C:/Users/Padma Dey/Downloads/Case management/CM_Activity.pdf', 'rb')\n",
    "pdfReader = PyPDF2.PdfReader(pdfFileObj)\n",
    "\n",
    "\n",
    "pageObj = reader.pages[0]\n",
    "page1 = pageObj.extract_text()\n",
    "\n",
    "\n",
    "page1 = page1.replace('\\n \\n',', ').replace('\\n','')\n",
    "\n",
    "page1\n",
    "\n"
   ]
  },
  {
   "cell_type": "code",
   "execution_count": 23,
   "metadata": {},
   "outputs": [],
   "source": [
    "pdfFileObj = open('C:/Users/Padma Dey/Downloads/Case management/CM_Activity.pdf', 'rb')\n",
    "pdfReader = PyPDF2.PdfReader(pdfFileObj)\n"
   ]
  },
  {
   "cell_type": "code",
   "execution_count": 24,
   "metadata": {},
   "outputs": [
    {
     "data": {
      "text/plain": [
       "'PatientID\\n8966\\nStart Date\\n3/27/24\\nPatientID\\n7323\\nStart Date\\n2/6/24\\nZ93.3 Colostomy status\\nHIGHRISKC\\nMHIGH RISK - CM\\nCurrent Medical StatusICD ICD Description Svc Code Svc Code Description\\nK57.20 Dvtrcli of lg int w perforation and abscess w/o bleeding2/29/24 2/29/24 LISA COFFIN 01502-00276-00000 ClosedClosed\\nClose Date Last Update CM Name Alt Ref No Engagement Status2-100487 CAROLYN BONDS 1/5/64 7323 CAROLYN BONDSCurrent Medical Status\\n4/16/24\\nReferral Summary\\nCase referred to Oncology CM for a diagnosis of elevated PSA with service of prostate biopsy. No valid contact number for member outreach. No response from member to \\nUnable to Reach Letter.\\nIn review of claims, member is established with Wake Forest U Health Science for a diagnosis of elevated PSA since 2023 and subsequently underwent a biopsy of prostate \\non 3/13/24. A post procedure office visit claim from Wake Forest U Health Science 3/21/24 notes diagnoses of benign prostatic hypertension and elevated PSA. No oncology \\ndiagnosis noted. \\nPrognosis/Course of illness:\\nNo inpatient admission history. No UR history\\nTotal claims paid in the last 12 months: $7,234.86\\nCriteria not met for plan oversight. Case closed.\\nCM Activity\\n2024-01-01 to 2024-06-30\\nCM Case ID Patient Name PatientDOB InsuredID Insured Name CM LevelICD ICD Description Svc Code Svc Code Description\\nR97.20 Elevatd prstate spcifc antign,PSA4/16/24 4/16/24 LISA COFFIN 01502-00165-00001 DeclinedDeclined - Unable to reach\\nClose Date Last Update CM Name Alt Ref No Engagement Status2-101809 CURTIS BITTLE 5/20/58 8262 HARRIET \\nWARNSLEY CM Activity\\n2024-01-01 to 2024-06-30\\nCM Case ID Patient Name PatientDOB InsuredID Insured Name CM Level'"
      ]
     },
     "execution_count": 24,
     "metadata": {},
     "output_type": "execute_result"
    }
   ],
   "source": [
    "# create page object and extract text\n",
    "pageObj = reader.pages[0]\n",
    "page1 = pageObj.extract_text()\n",
    "page1\n"
   ]
  },
  {
   "cell_type": "code",
   "execution_count": 25,
   "metadata": {},
   "outputs": [],
   "source": [
    "# # strip away page header\n",
    "# page1 = page1[25:]\n",
    "\n",
    "# insert commas to separate variables and then remove excess strings\n",
    "page1 = page1.replace('\\n \\n',', ').replace('\\n','')\n"
   ]
  },
  {
   "cell_type": "code",
   "execution_count": 26,
   "metadata": {},
   "outputs": [
    {
     "data": {
      "text/plain": [
       "'PatientID8966Start Date3/27/24PatientID7323Start Date2/6/24Z93.3 Colostomy statusHIGHRISKCMHIGH RISK - CMCurrent Medical StatusICD ICD Description Svc Code Svc Code DescriptionK57.20 Dvtrcli of lg int w perforation and abscess w/o bleeding2/29/24 2/29/24 LISA COFFIN 01502-00276-00000 ClosedClosedClose Date Last Update CM Name Alt Ref No Engagement Status2-100487 CAROLYN BONDS 1/5/64 7323 CAROLYN BONDSCurrent Medical Status4/16/24Referral SummaryCase referred to Oncology CM for a diagnosis of elevated PSA with service of prostate biopsy. No valid contact number for member outreach. No response from member to Unable to Reach Letter.In review of claims, member is established with Wake Forest U Health Science for a diagnosis of elevated PSA since 2023 and subsequently underwent a biopsy of prostate on 3/13/24. A post procedure office visit claim from Wake Forest U Health Science 3/21/24 notes diagnoses of benign prostatic hypertension and elevated PSA. No oncology diagnosis noted. Prognosis/Course of illness:No inpatient admission history. No UR historyTotal claims paid in the last 12 months: $7,234.86Criteria not met for plan oversight. Case closed.CM Activity2024-01-01 to 2024-06-30CM Case ID Patient Name PatientDOB InsuredID Insured Name CM LevelICD ICD Description Svc Code Svc Code DescriptionR97.20 Elevatd prstate spcifc antign,PSA4/16/24 4/16/24 LISA COFFIN 01502-00165-00001 DeclinedDeclined - Unable to reachClose Date Last Update CM Name Alt Ref No Engagement Status2-101809 CURTIS BITTLE 5/20/58 8262 HARRIET WARNSLEY CM Activity2024-01-01 to 2024-06-30CM Case ID Patient Name PatientDOB InsuredID Insured Name CM Level'"
      ]
     },
     "execution_count": 26,
     "metadata": {},
     "output_type": "execute_result"
    }
   ],
   "source": [
    "page1\n"
   ]
  },
  {
   "cell_type": "code",
   "execution_count": null,
   "metadata": {},
   "outputs": [
    {
     "data": {
      "text/html": [
       "<div>\n",
       "<style scoped>\n",
       "    .dataframe tbody tr th:only-of-type {\n",
       "        vertical-align: middle;\n",
       "    }\n",
       "\n",
       "    .dataframe tbody tr th {\n",
       "        vertical-align: top;\n",
       "    }\n",
       "\n",
       "    .dataframe thead th {\n",
       "        text-align: right;\n",
       "    }\n",
       "</style>\n",
       "<table border=\"1\" class=\"dataframe\">\n",
       "  <thead>\n",
       "    <tr style=\"text-align: right;\">\n",
       "      <th></th>\n",
       "      <th>PatientID8966Start Date3/27/24PatientID7323Start Date2/6/24Z93.3 Colostomy statusHIGHRISKCMHIGH RISK - CMCurrent Medical StatusICD ICD Description Svc Code Svc Code DescriptionK57.20 Dvtrcli of lg int w perforation and abscess w/o bleeding2/29/24 2/29/24 LISA COFFIN 01502-00276-00000 ClosedClosedClose Date Last Update CM Name Alt Ref No Engagement Status2-100487 CAROLYN BONDS 1/5/64 7323 CAROLYN BONDSCurrent Medical Status4/16/24Referral SummaryCase referred to Oncology CM for a diagnosis of elevated PSA with service of prostate biopsy. No valid contact number for member outreach. No response from member to Unable to Reach Letter.In review of claims</th>\n",
       "    </tr>\n",
       "  </thead>\n",
       "  <tbody>\n",
       "    <tr>\n",
       "      <th>0</th>\n",
       "      <td>member is established with Wake Forest U Healt...</td>\n",
       "    </tr>\n",
       "  </tbody>\n",
       "</table>\n",
       "</div>"
      ],
      "text/plain": [
       "  PatientID8966Start Date3/27/24PatientID7323Start Date2/6/24Z93.3 Colostomy statusHIGHRISKCMHIGH RISK - CMCurrent Medical StatusICD ICD Description Svc Code Svc Code DescriptionK57.20 Dvtrcli of lg int w perforation and abscess w/o bleeding2/29/24 2/29/24 LISA COFFIN 01502-00276-00000 ClosedClosedClose Date Last Update CM Name Alt Ref No Engagement Status2-100487 CAROLYN BONDS 1/5/64 7323 CAROLYN BONDSCurrent Medical Status4/16/24Referral SummaryCase referred to Oncology CM for a diagnosis of elevated PSA with service of prostate biopsy. No valid contact number for member outreach. No response from member to Unable to Reach Letter.In review of claims\n",
       "0  member is established with Wake Forest U Healt...                                                                                                                                                                                                                                                                                                                                                                                                                                                                                                                                                                                                                               "
      ]
     },
     "execution_count": 28,
     "metadata": {},
     "output_type": "execute_result"
    }
   ],
   "source": [
    "import pandas as pd\n",
    "lines = page1.split(', ')\n",
    "\n",
    "headers = lines[0].split(', ')  \n",
    "data = [line.split(', ') for line in lines[1:]]\n",
    "\n",
    "df = pd.DataFrame(data, columns=headers)\n",
    "\n",
    "df\n",
    "\n"
   ]
  },
  {
   "cell_type": "code",
   "execution_count": 30,
   "metadata": {},
   "outputs": [],
   "source": [
    "df.to_csv(\"C:/Users/Padma Dey/Downloads/test1.csv\", index=False)\n"
   ]
  },
  {
   "cell_type": "code",
   "execution_count": null,
   "metadata": {},
   "outputs": [],
   "source": []
  },
  {
   "cell_type": "code",
   "execution_count": 31,
   "metadata": {},
   "outputs": [],
   "source": [
    "pdf_url = \"C:/Users/Padma Dey/Downloads/Case management/CM_Activity.pdf\"\n"
   ]
  },
  {
   "cell_type": "code",
   "execution_count": 33,
   "metadata": {},
   "outputs": [
    {
     "ename": "InvalidSchema",
     "evalue": "No connection adapters were found for 'C:/Users/Padma Dey/Downloads/Case management/CM_Activity.pdf'",
     "output_type": "error",
     "traceback": [
      "\u001b[1;31m---------------------------------------------------------------------------\u001b[0m",
      "\u001b[1;31mInvalidSchema\u001b[0m                             Traceback (most recent call last)",
      "Cell \u001b[1;32mIn[33], line 5\u001b[0m\n\u001b[0;32m      2\u001b[0m \u001b[38;5;28;01mimport\u001b[39;00m \u001b[38;5;21;01mpdfplumber\u001b[39;00m\n\u001b[0;32m      3\u001b[0m \u001b[38;5;28;01mfrom\u001b[39;00m \u001b[38;5;21;01mio\u001b[39;00m \u001b[38;5;28;01mimport\u001b[39;00m BytesIO\n\u001b[1;32m----> 5\u001b[0m response \u001b[38;5;241m=\u001b[39m \u001b[43mrequests\u001b[49m\u001b[38;5;241;43m.\u001b[39;49m\u001b[43mget\u001b[49m\u001b[43m(\u001b[49m\u001b[43mpdf_url\u001b[49m\u001b[43m)\u001b[49m\n\u001b[0;32m      6\u001b[0m response\u001b[38;5;241m.\u001b[39mraise_for_status()\n\u001b[0;32m      8\u001b[0m pdf_file \u001b[38;5;241m=\u001b[39m BytesIO(response\u001b[38;5;241m.\u001b[39mcontent)\n",
      "File \u001b[1;32mc:\\Users\\Padma Dey\\AppData\\Local\\Programs\\Python\\Python312\\Lib\\site-packages\\requests\\api.py:73\u001b[0m, in \u001b[0;36mget\u001b[1;34m(url, params, **kwargs)\u001b[0m\n\u001b[0;32m     62\u001b[0m \u001b[38;5;28;01mdef\u001b[39;00m \u001b[38;5;21mget\u001b[39m(url, params\u001b[38;5;241m=\u001b[39m\u001b[38;5;28;01mNone\u001b[39;00m, \u001b[38;5;241m*\u001b[39m\u001b[38;5;241m*\u001b[39mkwargs):\n\u001b[0;32m     63\u001b[0m \u001b[38;5;250m    \u001b[39m\u001b[38;5;124mr\u001b[39m\u001b[38;5;124;03m\"\"\"Sends a GET request.\u001b[39;00m\n\u001b[0;32m     64\u001b[0m \n\u001b[0;32m     65\u001b[0m \u001b[38;5;124;03m    :param url: URL for the new :class:`Request` object.\u001b[39;00m\n\u001b[1;32m   (...)\u001b[0m\n\u001b[0;32m     70\u001b[0m \u001b[38;5;124;03m    :rtype: requests.Response\u001b[39;00m\n\u001b[0;32m     71\u001b[0m \u001b[38;5;124;03m    \"\"\"\u001b[39;00m\n\u001b[1;32m---> 73\u001b[0m     \u001b[38;5;28;01mreturn\u001b[39;00m \u001b[43mrequest\u001b[49m\u001b[43m(\u001b[49m\u001b[38;5;124;43m\"\u001b[39;49m\u001b[38;5;124;43mget\u001b[39;49m\u001b[38;5;124;43m\"\u001b[39;49m\u001b[43m,\u001b[49m\u001b[43m \u001b[49m\u001b[43murl\u001b[49m\u001b[43m,\u001b[49m\u001b[43m \u001b[49m\u001b[43mparams\u001b[49m\u001b[38;5;241;43m=\u001b[39;49m\u001b[43mparams\u001b[49m\u001b[43m,\u001b[49m\u001b[43m \u001b[49m\u001b[38;5;241;43m*\u001b[39;49m\u001b[38;5;241;43m*\u001b[39;49m\u001b[43mkwargs\u001b[49m\u001b[43m)\u001b[49m\n",
      "File \u001b[1;32mc:\\Users\\Padma Dey\\AppData\\Local\\Programs\\Python\\Python312\\Lib\\site-packages\\requests\\api.py:59\u001b[0m, in \u001b[0;36mrequest\u001b[1;34m(method, url, **kwargs)\u001b[0m\n\u001b[0;32m     55\u001b[0m \u001b[38;5;66;03m# By using the 'with' statement we are sure the session is closed, thus we\u001b[39;00m\n\u001b[0;32m     56\u001b[0m \u001b[38;5;66;03m# avoid leaving sockets open which can trigger a ResourceWarning in some\u001b[39;00m\n\u001b[0;32m     57\u001b[0m \u001b[38;5;66;03m# cases, and look like a memory leak in others.\u001b[39;00m\n\u001b[0;32m     58\u001b[0m \u001b[38;5;28;01mwith\u001b[39;00m sessions\u001b[38;5;241m.\u001b[39mSession() \u001b[38;5;28;01mas\u001b[39;00m session:\n\u001b[1;32m---> 59\u001b[0m     \u001b[38;5;28;01mreturn\u001b[39;00m \u001b[43msession\u001b[49m\u001b[38;5;241;43m.\u001b[39;49m\u001b[43mrequest\u001b[49m\u001b[43m(\u001b[49m\u001b[43mmethod\u001b[49m\u001b[38;5;241;43m=\u001b[39;49m\u001b[43mmethod\u001b[49m\u001b[43m,\u001b[49m\u001b[43m \u001b[49m\u001b[43murl\u001b[49m\u001b[38;5;241;43m=\u001b[39;49m\u001b[43murl\u001b[49m\u001b[43m,\u001b[49m\u001b[43m \u001b[49m\u001b[38;5;241;43m*\u001b[39;49m\u001b[38;5;241;43m*\u001b[39;49m\u001b[43mkwargs\u001b[49m\u001b[43m)\u001b[49m\n",
      "File \u001b[1;32mc:\\Users\\Padma Dey\\AppData\\Local\\Programs\\Python\\Python312\\Lib\\site-packages\\requests\\sessions.py:589\u001b[0m, in \u001b[0;36mSession.request\u001b[1;34m(self, method, url, params, data, headers, cookies, files, auth, timeout, allow_redirects, proxies, hooks, stream, verify, cert, json)\u001b[0m\n\u001b[0;32m    584\u001b[0m send_kwargs \u001b[38;5;241m=\u001b[39m {\n\u001b[0;32m    585\u001b[0m     \u001b[38;5;124m\"\u001b[39m\u001b[38;5;124mtimeout\u001b[39m\u001b[38;5;124m\"\u001b[39m: timeout,\n\u001b[0;32m    586\u001b[0m     \u001b[38;5;124m\"\u001b[39m\u001b[38;5;124mallow_redirects\u001b[39m\u001b[38;5;124m\"\u001b[39m: allow_redirects,\n\u001b[0;32m    587\u001b[0m }\n\u001b[0;32m    588\u001b[0m send_kwargs\u001b[38;5;241m.\u001b[39mupdate(settings)\n\u001b[1;32m--> 589\u001b[0m resp \u001b[38;5;241m=\u001b[39m \u001b[38;5;28;43mself\u001b[39;49m\u001b[38;5;241;43m.\u001b[39;49m\u001b[43msend\u001b[49m\u001b[43m(\u001b[49m\u001b[43mprep\u001b[49m\u001b[43m,\u001b[49m\u001b[43m \u001b[49m\u001b[38;5;241;43m*\u001b[39;49m\u001b[38;5;241;43m*\u001b[39;49m\u001b[43msend_kwargs\u001b[49m\u001b[43m)\u001b[49m\n\u001b[0;32m    591\u001b[0m \u001b[38;5;28;01mreturn\u001b[39;00m resp\n",
      "File \u001b[1;32mc:\\Users\\Padma Dey\\AppData\\Local\\Programs\\Python\\Python312\\Lib\\site-packages\\requests\\sessions.py:697\u001b[0m, in \u001b[0;36mSession.send\u001b[1;34m(self, request, **kwargs)\u001b[0m\n\u001b[0;32m    694\u001b[0m hooks \u001b[38;5;241m=\u001b[39m request\u001b[38;5;241m.\u001b[39mhooks\n\u001b[0;32m    696\u001b[0m \u001b[38;5;66;03m# Get the appropriate adapter to use\u001b[39;00m\n\u001b[1;32m--> 697\u001b[0m adapter \u001b[38;5;241m=\u001b[39m \u001b[38;5;28;43mself\u001b[39;49m\u001b[38;5;241;43m.\u001b[39;49m\u001b[43mget_adapter\u001b[49m\u001b[43m(\u001b[49m\u001b[43murl\u001b[49m\u001b[38;5;241;43m=\u001b[39;49m\u001b[43mrequest\u001b[49m\u001b[38;5;241;43m.\u001b[39;49m\u001b[43murl\u001b[49m\u001b[43m)\u001b[49m\n\u001b[0;32m    699\u001b[0m \u001b[38;5;66;03m# Start time (approximately) of the request\u001b[39;00m\n\u001b[0;32m    700\u001b[0m start \u001b[38;5;241m=\u001b[39m preferred_clock()\n",
      "File \u001b[1;32mc:\\Users\\Padma Dey\\AppData\\Local\\Programs\\Python\\Python312\\Lib\\site-packages\\requests\\sessions.py:792\u001b[0m, in \u001b[0;36mSession.get_adapter\u001b[1;34m(self, url)\u001b[0m\n\u001b[0;32m    789\u001b[0m         \u001b[38;5;28;01mreturn\u001b[39;00m adapter\n\u001b[0;32m    791\u001b[0m \u001b[38;5;66;03m# Nothing matches :-/\u001b[39;00m\n\u001b[1;32m--> 792\u001b[0m \u001b[38;5;28;01mraise\u001b[39;00m InvalidSchema(\u001b[38;5;124mf\u001b[39m\u001b[38;5;124m\"\u001b[39m\u001b[38;5;124mNo connection adapters were found for \u001b[39m\u001b[38;5;132;01m{\u001b[39;00murl\u001b[38;5;132;01m!r}\u001b[39;00m\u001b[38;5;124m\"\u001b[39m)\n",
      "\u001b[1;31mInvalidSchema\u001b[0m: No connection adapters were found for 'C:/Users/Padma Dey/Downloads/Case management/CM_Activity.pdf'"
     ]
    }
   ],
   "source": [
    "import requests\n",
    "import pdfplumber\n",
    "from io import BytesIO\n",
    "\n",
    "response = requests.get(pdf_url)\n",
    "response.raise_for_status()\n",
    "\n",
    "pdf_file = BytesIO(response.content)\n",
    "\n",
    "with pdfplumber.open(pdf_file) as pdf:\n",
    "    for page in pdf.pages:\n",
    "        text = page.extract_text()\n",
    "        print(text)\n"
   ]
  },
  {
   "cell_type": "code",
   "execution_count": null,
   "metadata": {},
   "outputs": [],
   "source": []
  },
  {
   "cell_type": "code",
   "execution_count": null,
   "metadata": {},
   "outputs": [],
   "source": []
  },
  {
   "cell_type": "code",
   "execution_count": null,
   "metadata": {},
   "outputs": [],
   "source": []
  },
  {
   "cell_type": "code",
   "execution_count": null,
   "metadata": {},
   "outputs": [],
   "source": []
  }
 ],
 "metadata": {
  "kernelspec": {
   "display_name": "Python 3",
   "language": "python",
   "name": "python3"
  },
  "language_info": {
   "codemirror_mode": {
    "name": "ipython",
    "version": 3
   },
   "file_extension": ".py",
   "mimetype": "text/x-python",
   "name": "python",
   "nbconvert_exporter": "python",
   "pygments_lexer": "ipython3",
   "version": "3.12.7"
  }
 },
 "nbformat": 4,
 "nbformat_minor": 2
}
